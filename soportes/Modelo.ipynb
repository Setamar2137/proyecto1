{
 "cells": [
  {
   "cell_type": "code",
   "execution_count": 1,
   "metadata": {},
   "outputs": [
    {
     "data": {
      "text/plain": [
       "Index(['Date', 'Rented Bike Count', 'Hour', 'Temperature(C)', 'Humidity(%)',\n",
       "       'Wind speed (m/s)', 'Visibility (10m)', 'Dew point temperature(C)',\n",
       "       'Solar Radiation (MJ/m2)', 'Rainfall(mm)', 'Snowfall (cm)',\n",
       "       'Seasons_Spring', 'Seasons_Summer', 'Seasons_Winter',\n",
       "       'Holiday_No Holiday'],\n",
       "      dtype='object')"
      ]
     },
     "execution_count": 1,
     "metadata": {},
     "output_type": "execute_result"
    }
   ],
   "source": [
    "\n",
    "import numpy as np\n",
    "import pandas as pd\n",
    "import matplotlib.pyplot as plt\n",
    "from matplotlib.gridspec import GridSpec\n",
    "import missingno as mn\n",
    "import seaborn as sb\n",
    "from scipy.stats import chi2_contingency\n",
    "from sklearn import datasets, linear_model\n",
    "from sklearn.model_selection import train_test_split\n",
    "\n",
    "\n",
    "\n",
    "#Creacion del modelo con RLM\n",
    "#modelo predictivo que ayuda a entender la demanda de bicicletas en distintas circunstancias \n",
    "\n",
    "#PRIMER MODELO\n",
    "#variables a incluir que influyen de acuerdo al analisis exploratorio de los datos\n",
    "#-Hora del dia, temperatura, visibilidad, radiacion solar, estacion, dia festivo.\n",
    "\n",
    "\n",
    "\n",
    "#Importar datos desde el archivo de CSV\n",
    "archivo = \"C:/Users/natal/OneDrive/Documentos/U/2024-2/Analitica/PROYECTO1/datoslimpios.csv\"\n",
    "datos = pd.read_csv(archivo)\n",
    "datos.columns\n"
   ]
  },
  {
   "cell_type": "code",
   "execution_count": 2,
   "metadata": {},
   "outputs": [
    {
     "name": "stdout",
     "output_type": "stream",
     "text": [
      "Coeficientes:\n",
      "                         Coeficiente\n",
      "Hour                       31.434482\n",
      "Temperature(C)             25.073896\n",
      "Visibility (10m)            0.166016\n",
      "Solar Radiation (MJ/m2)    18.215486\n",
      "Seasons_Spring           -112.249882\n",
      "Seasons_Summer           -225.359614\n",
      "Seasons_Winter           -266.505786\n",
      "Holiday_No Holiday        118.077452\n",
      "Intercepto: -160.4765422592078\n",
      "\n",
      "\n",
      "coeficiente de determinación R^2: 0.5090449086255487\n"
     ]
    }
   ],
   "source": [
    "#modelo con division de datos pata entrenamiento \n",
    "## Valores x y y,\n",
    "from sklearn.linear_model import LinearRegression\n",
    "\n",
    "X = datos.loc[:, ['Hour', 'Temperature(C)','Visibility (10m)','Solar Radiation (MJ/m2)',\n",
    "        'Seasons_Spring', 'Seasons_Summer', 'Seasons_Winter','Holiday_No Holiday']]\n",
    "\n",
    "y = datos.loc[:, ['Rented Bike Count']]\n",
    "\n",
    "\n",
    "# Creamos conjuntos de datos para entrenamiento y prueba\n",
    "X_train, X_test, y_train, y_test = train_test_split(X, y, test_size=0.3, shuffle=True, random_state=1)\n",
    "\n",
    "# Creamos el modelo de regresión lineal\n",
    "lr = LinearRegression()\n",
    "\n",
    "# Entrenamos el modelo\n",
    "lr.fit(X_train, y_train)\n",
    "\n",
    "# Predecimos usando los datos de prueba\n",
    "y_pred = lr.predict(X_test)\n",
    "\n",
    "# Puntaje del modelo (coeficiente de determinación R^2)\n",
    "puntaje = lr.score(X_test, y_test)\n",
    "\n",
    "# Obtener los coeficientes (betas) y el intercepto\n",
    "coeficientes = lr.coef_.flatten()  # Aplana el array 2D a 1D\n",
    "intercepto = lr.intercept_[0]  # Convierte el intercepto a un valor escalar\n",
    "\n",
    "# Crear un DataFrame para mostrar los coeficientes con sus nombres de columna\n",
    "coef_df = pd.DataFrame(coeficientes, index=X.columns, columns=['Coeficiente'])\n",
    "\n",
    "print(\"Coeficientes:\")\n",
    "print(coef_df)\n",
    "print(f\"Intercepto: {intercepto}\")\n",
    "print('\\n')\n",
    "# Mostrar el puntaje del modelo\n",
    "print(f\"coeficiente de determinación R^2: {puntaje}\")"
   ]
  },
  {
   "cell_type": "code",
   "execution_count": 3,
   "metadata": {},
   "outputs": [
    {
     "name": "stdout",
     "output_type": "stream",
     "text": [
      "Coeficientes del modelo final:\n",
      "                         Coeficiente\n",
      "Hour                       32.283928\n",
      "Temperature(C)             24.708374\n",
      "Visibility (10m)            0.166181\n",
      "Solar Radiation (MJ/m2)    18.715573\n",
      "Seasons_Spring           -109.250634\n",
      "Seasons_Summer           -202.738891\n",
      "Seasons_Winter           -265.781778\n",
      "Holiday_No Holiday        118.666026\n",
      "Intercepto del modelo final: -171.16490982475295\n",
      "Coeficiente de determinación R² del modelo final con visibility: 0.4956349074560348\n"
     ]
    }
   ],
   "source": [
    "from sklearn.model_selection import cross_val_score\n",
    "\n",
    "\n",
    "#modelo con  validacion cruzada \n",
    "\n",
    "# Valores X y Y\n",
    "X = datos.loc[:, ['Hour', 'Temperature(C)','Visibility (10m)','Solar Radiation (MJ/m2)',\n",
    "        'Seasons_Spring', 'Seasons_Summer', 'Seasons_Winter','Holiday_No Holiday']]\n",
    "\n",
    "y = datos.loc[:, 'Rented Bike Count']\n",
    "\n",
    "# Creamos el modelo de regresión lineal\n",
    "lr = LinearRegression()\n",
    "\n",
    "# Realizamos validación cruzada con 5 particiones (5-fold cross-validation)\n",
    "scores = cross_val_score(lr, X, y, cv=5, scoring='r2')  # cv=5 indica 5 particiones\n",
    "\n",
    "\n",
    "\n",
    "# Entrenamos el modelo con todo el conjunto de datos para obtener los coeficientes finales\n",
    "lr.fit(X, y)\n",
    "\n",
    "# Obtener los coeficientes (betas) y el intercepto\n",
    "coeficientes = lr.coef_.flatten()  # Aplana el array 2D a 1D\n",
    "intercepto = lr.intercept_  # Ya es un escalar, no necesita indexado\n",
    "\n",
    "# Crear un DataFrame para mostrar los coeficientes con sus nombres de columna\n",
    "coef_df = pd.DataFrame(coeficientes, index=X.columns, columns=['Coeficiente'])\n",
    "\n",
    "print(\"Coeficientes del modelo final:\")\n",
    "print(coef_df)\n",
    "print(f\"Intercepto del modelo final: {intercepto}\")\n",
    "\n",
    "# Calcular el R² del modelo final (entrenado en todo el conjunto de datos)\n",
    "r2_final = lr.score(X, y)\n",
    "print(f\"Coeficiente de determinación R² del modelo final con visibility: {r2_final}\")\n"
   ]
  },
  {
   "cell_type": "code",
   "execution_count": 4,
   "metadata": {},
   "outputs": [
    {
     "name": "stdout",
     "output_type": "stream",
     "text": [
      "Coeficientes del modelo final:\n",
      "                         Coeficiente\n",
      "Hour                       33.754583\n",
      "Temperature(C)             23.024870\n",
      "Solar Radiation (MJ/m2)    41.109020\n",
      "Seasons_Spring           -166.625602\n",
      "Seasons_Summer           -195.624792\n",
      "Seasons_Winter           -307.324630\n",
      "Holiday_No Holiday        107.769515\n",
      "Intercepto del modelo final: 92.734047258121\n",
      "Coeficiente de determinación R² del modelo final sin visibility: 0.47280559616146345\n"
     ]
    }
   ],
   "source": [
    "#modelo 2 validacion cruzada sin visibility\n",
    "# Valores X y Y\n",
    "X = datos.loc[:, ['Hour', 'Temperature(C)','Solar Radiation (MJ/m2)',\n",
    "        'Seasons_Spring', 'Seasons_Summer', 'Seasons_Winter','Holiday_No Holiday']]\n",
    "\n",
    "y = datos.loc[:, 'Rented Bike Count']\n",
    "\n",
    "# Creamos el modelo de regresión lineal\n",
    "lr = LinearRegression()\n",
    "\n",
    "# Realizamos validación cruzada con 5 particiones (5-fold cross-validation)\n",
    "scores = cross_val_score(lr, X, y, cv=5, scoring='r2')  \n",
    "\n",
    "# Entrenamos el modelo con todo el conjunto de datos para obtener los coeficientes finales\n",
    "lr.fit(X, y)\n",
    "\n",
    "# Obtener los coeficientes (betas) y el intercepto\n",
    "coeficientes = lr.coef_.flatten()  # Aplana el array 2D a 1D\n",
    "intercepto = lr.intercept_  # Ya es un escalar, no necesita indexado\n",
    "\n",
    "# Crear un DataFrame para mostrar los coeficientes con sus nombres de columna\n",
    "coef_df = pd.DataFrame(coeficientes, index=X.columns, columns=['Coeficiente'])\n",
    "\n",
    "print(\"Coeficientes del modelo final:\")\n",
    "print(coef_df)\n",
    "print(f\"Intercepto del modelo final: {intercepto}\")\n",
    "\n",
    "# Calcular el R² del modelo final (entrenado en todo el conjunto de datos)\n",
    "r2_final = lr.score(X, y)\n",
    "print(f\"Coeficiente de determinación R² del modelo final sin visibility: {r2_final}\")\n"
   ]
  },
  {
   "cell_type": "code",
   "execution_count": 6,
   "metadata": {},
   "outputs": [
    {
     "name": "stdout",
     "output_type": "stream",
     "text": [
      "Coeficientes del modelo final:\n",
      "                         Coeficiente\n",
      "Hour                       33.824115\n",
      "Temperature(C)             22.685907\n",
      "Solar Radiation (MJ/m2)    41.327449\n",
      "Seasons_Spring           -165.180150\n",
      "Seasons_Summer           -188.350837\n",
      "Seasons_Winter           -317.057920\n",
      "Intercepto del modelo final: 198.9314715923831\n",
      "Coeficiente de determinación R² del modelo final sin visibility y sin holiday: 0.4715418091652147\n"
     ]
    }
   ],
   "source": [
    "#modelo 3 validacion cruzada sin visibility y sin dummies holiday\n",
    "# Valores X y Y\n",
    "X = datos.loc[:,['Hour', 'Temperature(C)','Solar Radiation (MJ/m2)',\n",
    "        'Seasons_Spring', 'Seasons_Summer', 'Seasons_Winter']]\n",
    "\n",
    "y = datos.loc[:, 'Rented Bike Count']\n",
    "\n",
    "# Creamos el modelo de regresión lineal\n",
    "lr = LinearRegression()\n",
    "\n",
    "# Realizamos validación cruzada con 5 particiones (5-fold cross-validation)\n",
    "scores = cross_val_score(lr, X, y, cv=5, scoring='r2')  # cv=5 indica 5 particiones\n",
    "\n",
    "\n",
    "\n",
    "# Entrenamos el modelo con todo el conjunto de datos para obtener los coeficientes finales\n",
    "lr.fit(X, y)\n",
    "\n",
    "# Obtener los coeficientes (betas) y el intercepto\n",
    "coeficientes = lr.coef_.flatten()  # Aplana el array 2D a 1D\n",
    "intercepto = lr.intercept_  # Ya es un escalar, no necesita indexado\n",
    "\n",
    "# Crear un DataFrame para mostrar los coeficientes con sus nombres de columna\n",
    "coef_df = pd.DataFrame(coeficientes, index=X.columns, columns=['Coeficiente'])\n",
    "\n",
    "print(\"Coeficientes del modelo final:\")\n",
    "print(coef_df)\n",
    "print(f\"Intercepto del modelo final: {intercepto}\")\n",
    "\n",
    "# Calcular el R² del modelo final (entrenado en todo el conjunto de datos)\n",
    "r2_final = lr.score(X, y)\n",
    "print(f\"Coeficiente de determinación R² del modelo final sin visibility y sin holiday: {r2_final}\")"
   ]
  },
  {
   "cell_type": "code",
   "execution_count": 7,
   "metadata": {},
   "outputs": [
    {
     "name": "stdout",
     "output_type": "stream",
     "text": [
      "Coeficientes del modelo final:\n",
      "                         Coeficiente\n",
      "Hour                       32.369505\n",
      "Temperature(C)             24.324980\n",
      "Visibility (10m)            0.165157\n",
      "Solar Radiation (MJ/m2)    19.093888\n",
      "Seasons_Spring           -108.013345\n",
      "Seasons_Summer           -194.690181\n",
      "Seasons_Winter           -276.749024\n",
      "Intercepto del modelo final: -52.670537013078615\n",
      "Coeficiente de determinación R² del modelo final con visibility sin holiday: 0.49410350579908313\n"
     ]
    }
   ],
   "source": [
    "#modelo 4 (final) con  validacion cruzada \n",
    "\n",
    "# Valores X y Y\n",
    "X = datos.loc[:, ['Hour', 'Temperature(C)','Visibility (10m)','Solar Radiation (MJ/m2)',\n",
    "        'Seasons_Spring', 'Seasons_Summer', 'Seasons_Winter']]\n",
    "\n",
    "y = datos.loc[:, 'Rented Bike Count']\n",
    "\n",
    "# Creamos el modelo de regresión lineal\n",
    "lr = LinearRegression()\n",
    "\n",
    "# Realizamos validación cruzada con 5 particiones (5-fold cross-validation)\n",
    "scores = cross_val_score(lr, X, y, cv=5, scoring='r2')  # cv=5 indica 5 particiones\n",
    "\n",
    "\n",
    "# Entrenamos el modelo con todo el conjunto de datos para obtener los coeficientes finales\n",
    "lr.fit(X, y)\n",
    "\n",
    "# Obtener los coeficientes (betas) y el intercepto\n",
    "coeficientes = lr.coef_.flatten()  # Aplana el array 2D a 1D\n",
    "intercepto = lr.intercept_  # Ya es un escalar, no necesita indexado\n",
    "\n",
    "# Crear un DataFrame para mostrar los coeficientes con sus nombres de columna\n",
    "coef_df = pd.DataFrame(coeficientes, index=X.columns, columns=['Coeficiente'])\n",
    "\n",
    "print(\"Coeficientes del modelo final:\")\n",
    "print(coef_df)\n",
    "print(f\"Intercepto del modelo final: {intercepto}\")\n",
    "\n",
    "# Calcular el R² del modelo final (entrenado en todo el conjunto de datos)\n",
    "r2_final = lr.score(X, y)\n",
    "print(f\"Coeficiente de determinación R² del modelo final con visibility sin holiday: {r2_final}\")"
   ]
  }
 ],
 "metadata": {
  "kernelspec": {
   "display_name": "Python 3",
   "language": "python",
   "name": "python3"
  },
  "language_info": {
   "codemirror_mode": {
    "name": "ipython",
    "version": 3
   },
   "file_extension": ".py",
   "mimetype": "text/x-python",
   "name": "python",
   "nbconvert_exporter": "python",
   "pygments_lexer": "ipython3",
   "version": "3.11.9"
  }
 },
 "nbformat": 4,
 "nbformat_minor": 2
}
